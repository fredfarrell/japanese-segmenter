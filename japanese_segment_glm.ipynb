{
 "metadata": {
  "name": "",
  "signature": "sha256:01d44cc7f9685e8cc9f4868be9849b7f820b046434a3e9635cf98221a080cfed"
 },
 "nbformat": 3,
 "nbformat_minor": 0,
 "worksheets": [
  {
   "cells": [
    {
     "cell_type": "code",
     "collapsed": false,
     "input": [
      "import numpy as np\n",
      "from collections import defaultdict\n",
      "import re\n",
      "import nltk\n",
      "import unicodedata"
     ],
     "language": "python",
     "metadata": {},
     "outputs": [],
     "prompt_number": 1
    },
    {
     "cell_type": "code",
     "collapsed": false,
     "input": [
      "tags = ['S', 'B','M','E', '\u00a7']\n",
      "\n",
      "def dotprod(k,g):\n",
      "    return sum([k[x]*g[x] for x in g.keys()])\n",
      "\n",
      "#viterbi algorithm to 'decode' (find the best tag sequence given parameters)\n",
      "def viterbi(k,g,sentence):\n",
      "    \n",
      "    pi = {} #max prob\n",
      "    bp = {} #backpointer\n",
      "    tag_sequence = {} #tag\n",
      "    pi[(0,'*','*')] = 0\n",
      "    \n",
      "    #set up tag sets K_i\n",
      "    n = len(sentence)\n",
      "    K = {i:tags if i>0 else ['*'] for i in range(-1,n+1)}\n",
      "    \n",
      "    for j in range(1,n):\n",
      "        \n",
      "        for u in K[j-1]:\n",
      "            for v in K[j]:\n",
      "                \n",
      "                probs = [pi[(j-1,t,u)] + dotprod(k, g(t,u,sentence,j,v)) for t in K[j-2]]\n",
      "                pi[(j,u,v)] = np.max(probs)\n",
      "                bp[(j,u,v)] = K[j-2][np.argmax(probs)]\n",
      "    \n",
      "    try:\n",
      "        final = [pi[(n-1,u,s)] + dotprod(k, g(u,s,sentence,n,'\u00a7') ) for u in K[n-2] for s in K[n-1]]\n",
      "        final = np.array(final).reshape(len(K[n-2]),len(K[n-1]))\n",
      "    except:\n",
      "        print sentence\n",
      "        print n\n",
      "        raise\n",
      "    \n",
      "    tag_sequence[n-2] = K[n-2][np.unravel_index(final.argmax(),final.shape)[0]]\n",
      "    tag_sequence[n-1] = K[n-1][np.unravel_index(final.argmax(),final.shape)[1]]\n",
      "    \n",
      "    #reconstruct\n",
      "    for j in range(n-3,-1,-1):\n",
      "        tag_sequence[j] = bp[(j+2,tag_sequence[j+1],tag_sequence[j+2])]\n",
      "        \n",
      "    return [tag_sequence[i] for i in range(n)]"
     ],
     "language": "python",
     "metadata": {},
     "outputs": [],
     "prompt_number": 2
    },
    {
     "cell_type": "code",
     "collapsed": false,
     "input": [
      "#get character types for use in features\n",
      "def char_type(ch):\n",
      "    \n",
      "        ch = unicodedata.name(ch)\n",
      "        \n",
      "        if ch == u'\u00a7':\n",
      "            return '__STOP__'\n",
      "        if re.search('FULL STOP|COMMA',ch):\n",
      "            return '__PUNCT__'\n",
      "        if re.search('IDEOGRAPH',ch):\n",
      "            return '__KANJI__'\n",
      "        elif re.search('HIRAGANA', ch):\n",
      "            return '__HIRA__'\n",
      "        elif re.search('KATAKANA', ch):\n",
      "            return '__KATA__'\n",
      "        elif re.search('DIGIT', ch):\n",
      "            return '__NUM__'\n",
      "        elif re.search('LETTER', ch):\n",
      "            return '__ROMA__'\n",
      "        else:\n",
      "            return '__UNKNOWN__'\n",
      "        \n",
      "#function g to extract features from sentences\n",
      "def g_jseg(tag1,tag2,x,w,this_tag):\n",
      "    \n",
      "    x += u'\u00a7' #use this as stop symbol\n",
      "    \n",
      "    #trigrams and character-tag\n",
      "    d = defaultdict(int)\n",
      "    #d[(tag1,tag2,this_tag)] = 1\n",
      "    d[(x[w],this_tag)] = 1\n",
      "        \n",
      "    #this and next character\n",
      "    if w < len(x)-1:\n",
      "        d[('_NEXT_',x[w],x[w+1],this_tag)] = 1\n",
      "        \n",
      "    #type of current char, next char, last char (Kanji/Kana/Num/etc.)\n",
      "    if w>0 and w<(len(x)-1) :\n",
      "        d[('_TYPES_', char_type(x[w]), char_type(x[w-1]), char_type(x[w+1]), this_tag)] = 1\n",
      "        d[('_TYPES_CHAR_', x[w], char_type(x[w-1]), char_type(x[w+1]), this_tag)] = 1\n",
      "\n",
      "    \n",
      "    return d"
     ],
     "language": "python",
     "metadata": {},
     "outputs": [],
     "prompt_number": 3
    },
    {
     "cell_type": "code",
     "collapsed": false,
     "input": [
      "#load in training and test data\n",
      "\n",
      "sentences = ''.join([x.split()[0] if x.split() else '__BREAK__' for x in open('segment.train.2')]).split('__BREAK__')\n",
      "tag_seqs= ''.join([x.split()[1] if x.split() else '__BREAK__' for x in open('segment.train.2')]).split('__BREAK__')\n",
      "\n",
      "sentences = [i.decode('utf-8') for i in sentences]\n",
      "\n",
      "tr_size = int(0.75*len(sentences))\n",
      "\n",
      "train_sent = sentences[:tr_size]\n",
      "test_sent = sentences[tr_size:]\n",
      "\n",
      "train_tag = tag_seqs[:tr_size]\n",
      "test_tag = tag_seqs[tr_size:]"
     ],
     "language": "python",
     "metadata": {},
     "outputs": [],
     "prompt_number": 4
    },
    {
     "cell_type": "code",
     "collapsed": false,
     "input": [
      "#function to calculate feature vector of a sentence\n",
      "def f(g,sent,seq):\n",
      "    \n",
      "    seq = ('**' + seq + '\u00a7')\n",
      "    sent = sent + u'\u00a7'\n",
      "    f = defaultdict(int)\n",
      "    \n",
      "    for i in range(len(sent)):\n",
      "        feats = g(seq[i],seq[i+1],sent,i,seq[i+2])\n",
      "        \n",
      "        for ft in feats:\n",
      "            f[ft] += feats[ft]\n",
      "    \n",
      "    return f"
     ],
     "language": "python",
     "metadata": {},
     "outputs": [],
     "prompt_number": 5
    },
    {
     "cell_type": "code",
     "collapsed": false,
     "input": [
      "print sentences[0]"
     ],
     "language": "python",
     "metadata": {},
     "outputs": [
      {
       "output_type": "stream",
       "stream": "stdout",
       "text": [
        "\uff3b\u643a\u5e2f\u96fb\u8a71\uff3d\u30d7\u30ea\u30da\u30a4\u30c9\u30ab\u30fc\u30c9\u643a\u5e2f\u5e03\u6559\u3002\n"
       ]
      }
     ],
     "prompt_number": 6
    },
    {
     "cell_type": "code",
     "collapsed": false,
     "input": [
      "#perceptron algorithm\n",
      "\n",
      "v  = defaultdict(int) #'v=0'\n",
      "\n",
      "for _ in range(10):\n",
      "    for sent, seq in zip(train_sent,train_tag):\n",
      "\n",
      "        #compute best tag seq. with current v\n",
      "        best_seq = viterbi(v,g_jseg,'*' + sent)\n",
      "\n",
      "        best_seq = ''.join(best_seq[1:])\n",
      "\n",
      "        #get the feature vectors for best and 'gold'\n",
      "        best_f = f(g_jseg,sent,best_seq)\n",
      "\n",
      "        gold_f = f(g_jseg,sent,seq)\n",
      "\n",
      "        #update weights\n",
      "        for x in (set(best_f.keys()) | set(gold_f.keys())):\n",
      "            v[x] = v[x] + gold_f[x] - best_f[x]"
     ],
     "language": "python",
     "metadata": {},
     "outputs": [],
     "prompt_number": 7
    },
    {
     "cell_type": "code",
     "collapsed": false,
     "input": [
      "#pickle the weight vector v\n",
      "\n",
      "import pickle\n",
      "\n",
      "pickle.dump(v, open('j_seg_weights.pickle','wb'))"
     ],
     "language": "python",
     "metadata": {},
     "outputs": [],
     "prompt_number": 10
    },
    {
     "cell_type": "code",
     "collapsed": false,
     "input": [
      "def conv_tag_output(sentence,tags):\n",
      "    s = ''\n",
      "    \n",
      "    for c,t in zip(sentence,tags):\n",
      "        if t in ['S','B']:\n",
      "            s+=' '+c\n",
      "        else:\n",
      "            s+=c\n",
      "            \n",
      "    return s\n",
      "            \n",
      "\n",
      "print conv_tag_output(u'\uff3b\u643a\u5e2f\u96fb\u8a71\uff3d\u30d7\u30ea\u30da\u30a4\u30c9\u30ab\u30fc\u30c9\u643a\u5e2f\u5e03\u6559\u3002',viterbi(v,g_jseg,u'\uff3b\u643a\u5e2f\u96fb\u8a71\uff3d\u30d7\u30ea\u30da\u30a4\u30c9\u30ab\u30fc\u30c9\u643a\u5e2f\u5e03\u6559\u3002'))\n",
      "print conv_tag_output(sentences[2],tag_seqs[2])"
     ],
     "language": "python",
     "metadata": {},
     "outputs": [
      {
       "output_type": "stream",
       "stream": "stdout",
       "text": [
        "\uff3b \u643a\u5e2f \u96fb\u8a71 \uff3d \u30d7\u30ea\u30da\u30a4\u30c9 \u30ab\u30fc\u30c9 \u643a\u5e2f \u5e03\u6559 \u3002\n",
        " \u7d50\u5c40 \u3053\u306e\u3088\u3046\u306a \u7d50\u8ad6 \u306b \u843d\u3061\u7740\u304d \u307e\u3057\u305f \u3002\n"
       ]
      }
     ],
     "prompt_number": 8
    },
    {
     "cell_type": "code",
     "collapsed": false,
     "input": [
      "preds = []\n",
      "reals = []\n",
      "\n",
      "for s,real_tags in zip(test_sent,test_tag):\n",
      "    \n",
      "    if len(s)>0:\n",
      "    \n",
      "        pred_tags = viterbi(v,g_jseg,s)\n",
      "\n",
      "        for pred,real in zip(pred_tags[1:],real_tags[1:]):\n",
      "            preds.append(pred)\n",
      "            reals.append(real)\n"
     ],
     "language": "python",
     "metadata": {},
     "outputs": [],
     "prompt_number": 9
    },
    {
     "cell_type": "code",
     "collapsed": false,
     "input": [
      "test_sentence = u'\u30d3\u30a4\u30eb\u3092\uff13\u676f\u98f2\u3093\u3060\u3002'\n",
      "print conv_tag_output(test_sentence,viterbi(v,g_jseg,test_sentence))"
     ],
     "language": "python",
     "metadata": {},
     "outputs": [
      {
       "output_type": "stream",
       "stream": "stdout",
       "text": [
        "\u30d3\u30a4\u30eb \u3092 \uff13 \u676f \u98f2\u3093\u3060 \u3002\n"
       ]
      }
     ],
     "prompt_number": 14
    },
    {
     "cell_type": "code",
     "collapsed": false,
     "input": [
      "from sklearn import metrics\n",
      "\n",
      "print metrics.classification_report(reals,preds)"
     ],
     "language": "python",
     "metadata": {},
     "outputs": [
      {
       "output_type": "stream",
       "stream": "stdout",
       "text": [
        "             precision    recall  f1-score   support\n",
        "\n",
        "          B       0.82      0.91      0.87      7811\n",
        "          E       0.86      0.83      0.84      8593\n",
        "          M       0.80      0.75      0.78      5044\n",
        "          S       0.86      0.84      0.85      7400\n",
        "\n",
        "avg / total       0.84      0.84      0.84     28848\n",
        "\n"
       ]
      }
     ],
     "prompt_number": 215
    },
    {
     "cell_type": "code",
     "collapsed": false,
     "input": [
      "metrics.accuracy_score(reals,preds)"
     ],
     "language": "python",
     "metadata": {},
     "outputs": [
      {
       "metadata": {},
       "output_type": "pyout",
       "prompt_number": 218,
       "text": [
        "0.83953826955074873"
       ]
      }
     ],
     "prompt_number": 218
    },
    {
     "cell_type": "code",
     "collapsed": false,
     "input": [
      "reals_gaps = ['S' if i in ['S','B'] else 'C' for i in reals]\n",
      "preds_gaps = ['S' if i in ['S','B'] else 'C' for i in preds]"
     ],
     "language": "python",
     "metadata": {},
     "outputs": [],
     "prompt_number": 219
    },
    {
     "cell_type": "code",
     "collapsed": false,
     "input": [
      "print metrics.classification_report(reals_gaps,preds_gaps)"
     ],
     "language": "python",
     "metadata": {},
     "outputs": [
      {
       "output_type": "stream",
       "stream": "stdout",
       "text": [
        "             precision    recall  f1-score   support\n",
        "\n",
        "          C       0.90      0.85      0.87     13637\n",
        "          S       0.87      0.91      0.89     15211\n",
        "\n",
        "avg / total       0.88      0.88      0.88     28848\n",
        "\n"
       ]
      }
     ],
     "prompt_number": 221
    },
    {
     "cell_type": "code",
     "collapsed": false,
     "input": [
      "metrics.accuracy_score(reals_gaps,preds_gaps)"
     ],
     "language": "python",
     "metadata": {},
     "outputs": [
      {
       "metadata": {},
       "output_type": "pyout",
       "prompt_number": 222,
       "text": [
        "0.88373544093178036"
       ]
      }
     ],
     "prompt_number": 222
    },
    {
     "cell_type": "code",
     "collapsed": false,
     "input": [],
     "language": "python",
     "metadata": {},
     "outputs": []
    }
   ],
   "metadata": {}
  }
 ]
}