{
 "metadata": {
  "name": "",
  "signature": "sha256:e344cf5e8d29f14edb207913b86054554041cb31438f1f7a4584aa6add3c49e7"
 },
 "nbformat": 3,
 "nbformat_minor": 0,
 "worksheets": [
  {
   "cells": [
    {
     "cell_type": "code",
     "collapsed": false,
     "input": [
      "import nltk\n",
      "from nltk.corpus.util import LazyCorpusLoader"
     ],
     "language": "python",
     "metadata": {},
     "outputs": [],
     "prompt_number": 31
    },
    {
     "cell_type": "code",
     "collapsed": false,
     "input": [
      "knbc = LazyCorpusLoader('knbc/corpus1',nltk.corpus.reader.KNBCorpusReader,r'.*/KN.*',encoding='euc-jp')"
     ],
     "language": "python",
     "metadata": {},
     "outputs": [],
     "prompt_number": 32
    },
    {
     "cell_type": "code",
     "collapsed": false,
     "input": [
      "for i in knbc.sents()[4]:\n",
      "    print i"
     ],
     "language": "python",
     "metadata": {},
     "outputs": [
      {
       "output_type": "stream",
       "stream": "stdout",
       "text": [
        "\uff37\uff45\uff42\n",
        "\u304c\n",
        "\u4f7f\u3048\n",
        "\u306a\u3044\n",
        "\u3001\n",
        "\u901a\u8a71\n",
        "\u6599\n",
        "\u304c\n",
        "\u3084\u3051\u306b\n",
        "\u9ad8\u3044\n",
        "\u306e\u3067\n",
        "\u96fb\u8a71\n",
        "\u3092\n",
        "\u308f\u3056\u308f\u3056\n",
        "\u516c\u8846\n",
        "\u96fb\u8a71\n",
        "\u304b\u3089\n",
        "\u304b\u3051\u305f\u308a\n",
        "\u3059\u308b\n",
        "\u3001\n",
        "\u643a\u5e2f\n",
        "\u4f1a\u793e\n",
        "\u304c\n",
        "\u8b33\u3046\n",
        "\u30aa\n",
        "\u30c8\u30af\n",
        "\u3052\u306a\n",
        "\u30b5\u30fc\u30d3\u30b9\n",
        "\u3092\n",
        "\u307b\u3068\u3093\u3069\n",
        "\u53d7\u3051\n",
        "\u3089\u308c\n",
        "\u306a\u3044\n",
        "\uff0e\n",
        "\uff0e\n",
        "\uff0e\n"
       ]
      }
     ],
     "prompt_number": 33
    },
    {
     "cell_type": "code",
     "collapsed": false,
     "input": [
      "print knbc.tagged_sents()[10][0][1]"
     ],
     "language": "python",
     "metadata": {},
     "outputs": [
      {
       "output_type": "stream",
       "stream": "stdout",
       "text": [
        "\u3053\u308c \u3053\u308c \u6307\u793a\u8a5e 7 \u540d\u8a5e\u5f62\u614b\u6307\u793a\u8a5e 1 * 0 * 0 \"\u7591\u4f3c\u4ee3\u8868\u8868\u8a18 \u4ee3\u8868\u8868\u8a18:\u3053\u308c/\u3053\u308c\" <\u7591\u4f3c\u4ee3\u8868\u8868\u8a18><\u4ee3\u8868\u8868\u8a18:\u3053\u308c/\u3053\u308c><\u6b63\u898f\u5316\u4ee3\u8868\u8868\u8a18:\u3053\u308c/\u3053\u308c><\u6587\u982d><\u304b\u306a\u6f22\u5b57><\u3072\u3089\u304c\u306a><\u81ea\u7acb><\u5185\u5bb9\u8a9e><\u610f\u5473\u6709><\u30bf\u30b0\u5358\u4f4d\u59cb><\u6587\u7bc0\u59cb><\u6587\u7bc0\u4e3b\u8f9e>\n"
       ]
      }
     ],
     "prompt_number": 34
    },
    {
     "cell_type": "code",
     "collapsed": false,
     "input": [
      "knbc.tagged_words()[0]"
     ],
     "language": "python",
     "metadata": {},
     "outputs": [
      {
       "metadata": {},
       "output_type": "pyout",
       "prompt_number": 35,
       "text": [
        "(u'\\uff3b',\n",
        " u'\\uff3b \\uff3b \\u7279\\u6b8a 1 \\u62ec\\u5f27\\u59cb 3 * 0 * 0 NIL <\\u6587\\u982d><\\u8a18\\u82f1\\u6570\\u30ab><\\u82f1\\u8a18\\u53f7><\\u8a18\\u53f7><\\u62ec\\u5f27\\u59cb><\\u62ec\\u5f27><\\u63a5\\u982d><\\u975e\\u72ec\\u7acb\\u63a5\\u982d\\u8f9e><\\u30bf\\u30b0\\u5358\\u4f4d\\u59cb><\\u6587\\u7bc0\\u59cb>')"
       ]
      }
     ],
     "prompt_number": 35
    },
    {
     "cell_type": "heading",
     "level": 2,
     "metadata": {},
     "source": [
      "Convert to a tagging problem for finding word boundaries"
     ]
    },
    {
     "cell_type": "code",
     "collapsed": false,
     "input": [
      "train = open('segment.train.2','w')\n",
      "\n",
      "for sent in knbc.sents():\n",
      "    \n",
      "    for wd in sent:\n",
      "        \n",
      "        l = len(wd)\n",
      "    \n",
      "        for pos, ch in enumerate(wd):\n",
      "            \n",
      "            if pos == 0:\n",
      "                if l==1:\n",
      "                    tag = 'S' #single\n",
      "                else:\n",
      "                    tag = 'B' #begin\n",
      "            elif pos == l-1:\n",
      "                tag = 'E' #end\n",
      "            else:\n",
      "                tag = 'M' #middle\n",
      "            \n",
      "            \n",
      "            train.write( (ch + ' ' +  tag + u'\\n').encode('utf8')  )\n",
      "            \n",
      "    train.write(u'\\n')\n",
      "        \n",
      "train.close()\n"
     ],
     "language": "python",
     "metadata": {},
     "outputs": [],
     "prompt_number": 39
    },
    {
     "cell_type": "code",
     "collapsed": false,
     "input": [
      "import unicodedata\n",
      "print unicodedata.name(u'\u6307')\n",
      "print unicodedata.name(u'\u50cd')\n",
      "print unicodedata.name(u'\uff11')\n",
      "print unicodedata.name(u'2')\n",
      "print unicodedata.name(u'\uff37')\n",
      "print unicodedata.name(u'e')\n",
      "print unicodedata.name(u'\u306b')\n",
      "print unicodedata.name(u'\u30b9')\n",
      "print unicodedata.name(u'\u3002')\n",
      "print unicodedata.name(u'\u3001')\n",
      "print unicodedata.name(u'\uff0e')\n"
     ],
     "language": "python",
     "metadata": {},
     "outputs": [
      {
       "output_type": "stream",
       "stream": "stdout",
       "text": [
        "CJK UNIFIED IDEOGRAPH-6307\n",
        "CJK UNIFIED IDEOGRAPH-50CD\n",
        "FULLWIDTH DIGIT ONE\n",
        "DIGIT TWO\n",
        "FULLWIDTH LATIN CAPITAL LETTER W\n",
        "LATIN SMALL LETTER E\n",
        "HIRAGANA LETTER NI\n",
        "KATAKANA LETTER SU\n",
        "IDEOGRAPHIC FULL STOP\n",
        "IDEOGRAPHIC COMMA\n",
        "FULLWIDTH FULL STOP\n"
       ]
      }
     ],
     "prompt_number": 37
    },
    {
     "cell_type": "code",
     "collapsed": false,
     "input": [
      "import re\n",
      "re.search('HIRAGANA|CJK','CJK UNIFIED IDEOGRAPH-6307')"
     ],
     "language": "python",
     "metadata": {},
     "outputs": [
      {
       "metadata": {},
       "output_type": "pyout",
       "prompt_number": 25,
       "text": [
        "<_sre.SRE_Match at 0x7f4e514635e0>"
       ]
      }
     ],
     "prompt_number": 25
    },
    {
     "cell_type": "code",
     "collapsed": false,
     "input": [
      "print ''.join(knbc.sents()[4])"
     ],
     "language": "python",
     "metadata": {},
     "outputs": [
      {
       "output_type": "stream",
       "stream": "stdout",
       "text": [
        "\uff37\uff45\uff42\u304c\u4f7f\u3048\u306a\u3044\u3001\u901a\u8a71\u6599\u304c\u3084\u3051\u306b\u9ad8\u3044\u306e\u3067\u96fb\u8a71\u3092\u308f\u3056\u308f\u3056\u516c\u8846\u96fb\u8a71\u304b\u3089\u304b\u3051\u305f\u308a\u3059\u308b\u3001\u643a\u5e2f\u4f1a\u793e\u304c\u8b33\u3046\u30aa\u30c8\u30af\u3052\u306a\u30b5\u30fc\u30d3\u30b9\u3092\u307b\u3068\u3093\u3069\u53d7\u3051\u3089\u308c\u306a\u3044\uff0e\uff0e\uff0e\n"
       ]
      }
     ],
     "prompt_number": 30
    },
    {
     "cell_type": "code",
     "collapsed": false,
     "input": [],
     "language": "python",
     "metadata": {},
     "outputs": []
    }
   ],
   "metadata": {}
  }
 ]
}